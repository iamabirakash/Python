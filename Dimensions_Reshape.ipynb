{
 "cells": [
  {
   "cell_type": "code",
   "execution_count": 1,
   "id": "d8f1f2de-1fa1-41fc-8db3-fff337616cad",
   "metadata": {},
   "outputs": [],
   "source": [
    "import numpy as np"
   ]
  },
  {
   "cell_type": "code",
   "execution_count": 2,
   "id": "33e0f194-4da0-4a1f-8626-0fefe756f159",
   "metadata": {},
   "outputs": [
    {
     "name": "stdout",
     "output_type": "stream",
     "text": [
      "[1 2 3 4 5 6]\n"
     ]
    }
   ],
   "source": [
    "a = np.array([1,2,3,4,5,6])\n",
    "print(a)"
   ]
  },
  {
   "cell_type": "code",
   "execution_count": 5,
   "id": "9287656c-3ab5-4b02-81ac-3fc1b21e5c96",
   "metadata": {},
   "outputs": [
    {
     "name": "stdout",
     "output_type": "stream",
     "text": [
      "[[0. 0. 0.]\n",
      " [0. 0. 0.]\n",
      " [0. 0. 0.]]\n",
      "2\n"
     ]
    }
   ],
   "source": [
    "b = np.zeros([3,3])\n",
    "print(b)\n",
    "print(b.ndim)"
   ]
  },
  {
   "cell_type": "code",
   "execution_count": 6,
   "id": "8e5f9a58-80a5-4d94-b275-b2ff03184db5",
   "metadata": {},
   "outputs": [
    {
     "name": "stdout",
     "output_type": "stream",
     "text": [
      "[[1. 1. 1.]\n",
      " [1. 1. 1.]\n",
      " [1. 1. 1.]]\n",
      "2\n"
     ]
    }
   ],
   "source": [
    "c = np.ones([3,3])\n",
    "print(c)\n",
    "print(c.ndim)"
   ]
  },
  {
   "cell_type": "code",
   "execution_count": 7,
   "id": "e32127c0-7815-440a-aee0-d68d81d775e9",
   "metadata": {},
   "outputs": [
    {
     "name": "stdout",
     "output_type": "stream",
     "text": [
      "[[1 1 1]\n",
      " [1 1 1]\n",
      " [1 1 1]]\n",
      "2\n"
     ]
    }
   ],
   "source": [
    "d = np.ones([3,3],dtype=int)\n",
    "print(d)\n",
    "print(d.ndim)"
   ]
  },
  {
   "cell_type": "markdown",
   "id": "f160b272-f518-4cfa-9973-37ebeffb5b0e",
   "metadata": {},
   "source": [
    "3D -> [No. of Matrix, Rows, Columns]"
   ]
  },
  {
   "cell_type": "code",
   "execution_count": 13,
   "id": "66162099-bde7-41e2-a49e-6d924d675cd4",
   "metadata": {},
   "outputs": [
    {
     "name": "stdout",
     "output_type": "stream",
     "text": [
      "[[[1 1]\n",
      "  [1 1]\n",
      "  [1 1]\n",
      "  [1 1]]\n",
      "\n",
      " [[1 1]\n",
      "  [1 1]\n",
      "  [1 1]\n",
      "  [1 1]]\n",
      "\n",
      " [[1 1]\n",
      "  [1 1]\n",
      "  [1 1]\n",
      "  [1 1]]]\n",
      "3\n"
     ]
    }
   ],
   "source": [
    "e = np.ones([3,4,2],dtype=int)\n",
    "print(e)\n",
    "print(e.ndim)"
   ]
  },
  {
   "cell_type": "code",
   "execution_count": 44,
   "id": "93085be1-1426-4f57-8655-1962bb82c07c",
   "metadata": {},
   "outputs": [
    {
     "name": "stdout",
     "output_type": "stream",
     "text": [
      "[[[[[1 1 1]\n",
      "    [1 1 1]]\n",
      "\n",
      "   [[1 1 1]\n",
      "    [1 1 1]]]\n",
      "\n",
      "\n",
      "  [[[1 1 1]\n",
      "    [1 1 1]]\n",
      "\n",
      "   [[1 1 1]\n",
      "    [1 1 1]]]]\n",
      "\n",
      "\n",
      "\n",
      " [[[[1 1 1]\n",
      "    [1 1 1]]\n",
      "\n",
      "   [[1 1 1]\n",
      "    [1 1 1]]]\n",
      "\n",
      "\n",
      "  [[[1 1 1]\n",
      "    [1 1 1]]\n",
      "\n",
      "   [[1 1 1]\n",
      "    [1 1 1]]]]\n",
      "\n",
      "\n",
      "\n",
      " [[[[1 1 1]\n",
      "    [1 1 1]]\n",
      "\n",
      "   [[1 1 1]\n",
      "    [1 1 1]]]\n",
      "\n",
      "\n",
      "  [[[1 1 1]\n",
      "    [1 1 1]]\n",
      "\n",
      "   [[1 1 1]\n",
      "    [1 1 1]]]]]\n",
      "5\n"
     ]
    }
   ],
   "source": [
    "k = np.ones([3,2,2,2,3],dtype=int)\n",
    "print(k)\n",
    "print(k.ndim)"
   ]
  },
  {
   "cell_type": "code",
   "execution_count": 47,
   "id": "9bd360c9-5ad4-4f21-899d-fbe37d68084f",
   "metadata": {
    "scrolled": true
   },
   "outputs": [
    {
     "name": "stdout",
     "output_type": "stream",
     "text": [
      "[[[[[1 1 1 1 1]\n",
      "    [1 1 1 1 1]\n",
      "    [1 1 1 1 1]\n",
      "    [1 1 1 1 1]]\n",
      "\n",
      "   [[1 1 1 1 1]\n",
      "    [1 1 1 1 1]\n",
      "    [1 1 1 1 1]\n",
      "    [1 1 1 1 1]]\n",
      "\n",
      "   [[1 1 1 1 1]\n",
      "    [1 1 1 1 1]\n",
      "    [1 1 1 1 1]\n",
      "    [1 1 1 1 1]]]\n",
      "\n",
      "\n",
      "  [[[1 1 1 1 1]\n",
      "    [1 1 1 1 1]\n",
      "    [1 1 1 1 1]\n",
      "    [1 1 1 1 1]]\n",
      "\n",
      "   [[1 1 1 1 1]\n",
      "    [1 1 1 1 1]\n",
      "    [1 1 1 1 1]\n",
      "    [1 1 1 1 1]]\n",
      "\n",
      "   [[1 1 1 1 1]\n",
      "    [1 1 1 1 1]\n",
      "    [1 1 1 1 1]\n",
      "    [1 1 1 1 1]]]]]\n",
      "5\n"
     ]
    }
   ],
   "source": [
    "l = np.ones([1,2,3,4,5],dtype=int)\n",
    "print(l)\n",
    "print(l.ndim)"
   ]
  },
  {
   "cell_type": "code",
   "execution_count": 14,
   "id": "5e759cfa-028c-4964-9687-6228fac3bf42",
   "metadata": {},
   "outputs": [
    {
     "name": "stdout",
     "output_type": "stream",
     "text": [
      "[[[1 1 1 1 1]\n",
      "  [1 1 1 1 1]\n",
      "  [1 1 1 1 1]]\n",
      "\n",
      " [[1 1 1 1 1]\n",
      "  [1 1 1 1 1]\n",
      "  [1 1 1 1 1]]\n",
      "\n",
      " [[1 1 1 1 1]\n",
      "  [1 1 1 1 1]\n",
      "  [1 1 1 1 1]]\n",
      "\n",
      " [[1 1 1 1 1]\n",
      "  [1 1 1 1 1]\n",
      "  [1 1 1 1 1]]]\n",
      "3\n"
     ]
    }
   ],
   "source": [
    "f = np.ones([4,3,5],dtype=int)\n",
    "print(f)\n",
    "print(f.ndim)"
   ]
  },
  {
   "cell_type": "code",
   "execution_count": 24,
   "id": "a129c56f-306e-4068-a47b-2736112c8bf4",
   "metadata": {},
   "outputs": [
    {
     "name": "stdout",
     "output_type": "stream",
     "text": [
      "[1 2 3 4 5 6 7 8 9]\n"
     ]
    }
   ],
   "source": [
    "g = np.array([1,2,3,4,5,6,7,8,9])\n",
    "print(g)"
   ]
  },
  {
   "cell_type": "code",
   "execution_count": 25,
   "id": "faa9fe5a-db38-4387-a309-66c94586a0ae",
   "metadata": {},
   "outputs": [
    {
     "name": "stdout",
     "output_type": "stream",
     "text": [
      "[[1 2 3]\n",
      " [4 5 6]\n",
      " [7 8 9]]\n",
      "2\n"
     ]
    }
   ],
   "source": [
    "h = g.reshape(3,3)\n",
    "print(h)\n",
    "print(h.ndim)"
   ]
  },
  {
   "cell_type": "code",
   "execution_count": 27,
   "id": "02a52674-65a7-4fb1-8ff2-d47b7a123ed8",
   "metadata": {},
   "outputs": [
    {
     "name": "stdout",
     "output_type": "stream",
     "text": [
      "[1 2 3 4 5 6 7 8 9]\n",
      "1\n"
     ]
    }
   ],
   "source": [
    "i = h.flatten()\n",
    "print(i)\n",
    "print(i.ndim)"
   ]
  },
  {
   "cell_type": "code",
   "execution_count": 29,
   "id": "71e87653-4abe-4836-996f-39bb6fad420b",
   "metadata": {},
   "outputs": [
    {
     "name": "stdout",
     "output_type": "stream",
     "text": [
      "[ 0  3  6  9 12 15 18]\n"
     ]
    }
   ],
   "source": [
    "j = np.arange(0,20,3)\n",
    "print(j)"
   ]
  },
  {
   "cell_type": "code",
   "execution_count": null,
   "id": "17190fd9-c017-4670-b53a-8e644232f368",
   "metadata": {},
   "outputs": [],
   "source": []
  }
 ],
 "metadata": {
  "kernelspec": {
   "display_name": "Python 3 (ipykernel)",
   "language": "python",
   "name": "python3"
  },
  "language_info": {
   "codemirror_mode": {
    "name": "ipython",
    "version": 3
   },
   "file_extension": ".py",
   "mimetype": "text/x-python",
   "name": "python",
   "nbconvert_exporter": "python",
   "pygments_lexer": "ipython3",
   "version": "3.13.2"
  }
 },
 "nbformat": 4,
 "nbformat_minor": 5
}
