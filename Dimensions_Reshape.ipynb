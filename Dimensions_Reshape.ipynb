{
 "cells": [
  {
   "cell_type": "code",
   "execution_count": 1,
   "id": "d8f1f2de-1fa1-41fc-8db3-fff337616cad",
   "metadata": {},
   "outputs": [],
   "source": [
    "import numpy as np"
   ]
  },
  {
   "cell_type": "code",
   "execution_count": 2,
   "id": "33e0f194-4da0-4a1f-8626-0fefe756f159",
   "metadata": {},
   "outputs": [
    {
     "name": "stdout",
     "output_type": "stream",
     "text": [
      "[1 2 3 4 5 6]\n"
     ]
    }
   ],
   "source": [
    "a = np.array([1,2,3,4,5,6])\n",
    "print(a)"
   ]
  },
  {
   "cell_type": "code",
   "execution_count": 5,
   "id": "9287656c-3ab5-4b02-81ac-3fc1b21e5c96",
   "metadata": {},
   "outputs": [
    {
     "name": "stdout",
     "output_type": "stream",
     "text": [
      "[[0. 0. 0.]\n",
      " [0. 0. 0.]\n",
      " [0. 0. 0.]]\n",
      "2\n"
     ]
    }
   ],
   "source": [
    "b = np.zeros([3,3])\n",
    "print(b)\n",
    "print(b.ndim)"
   ]
  },
  {
   "cell_type": "code",
   "execution_count": 6,
   "id": "8e5f9a58-80a5-4d94-b275-b2ff03184db5",
   "metadata": {},
   "outputs": [
    {
     "name": "stdout",
     "output_type": "stream",
     "text": [
      "[[1. 1. 1.]\n",
      " [1. 1. 1.]\n",
      " [1. 1. 1.]]\n",
      "2\n"
     ]
    }
   ],
   "source": [
    "c = np.ones([3,3])\n",
    "print(c)\n",
    "print(c.ndim)"
   ]
  },
  {
   "cell_type": "code",
   "execution_count": 7,
   "id": "e32127c0-7815-440a-aee0-d68d81d775e9",
   "metadata": {},
   "outputs": [
    {
     "name": "stdout",
     "output_type": "stream",
     "text": [
      "[[1 1 1]\n",
      " [1 1 1]\n",
      " [1 1 1]]\n",
      "2\n"
     ]
    }
   ],
   "source": [
    "d = np.ones([3,3],dtype=int)\n",
    "print(d)\n",
    "print(d.ndim)"
   ]
  },
  {
   "cell_type": "markdown",
   "id": "f160b272-f518-4cfa-9973-37ebeffb5b0e",
   "metadata": {},
   "source": [
    "3D -> [No. of Matrix, Rows, Columns]"
   ]
  },
  {
   "cell_type": "code",
   "execution_count": 13,
   "id": "66162099-bde7-41e2-a49e-6d924d675cd4",
   "metadata": {},
   "outputs": [
    {
     "name": "stdout",
     "output_type": "stream",
     "text": [
      "[[[1 1]\n",
      "  [1 1]\n",
      "  [1 1]\n",
      "  [1 1]]\n",
      "\n",
      " [[1 1]\n",
      "  [1 1]\n",
      "  [1 1]\n",
      "  [1 1]]\n",
      "\n",
      " [[1 1]\n",
      "  [1 1]\n",
      "  [1 1]\n",
      "  [1 1]]]\n",
      "3\n"
     ]
    }
   ],
   "source": [
    "e = np.ones([3,4,2],dtype=int)\n",
    "print(e)\n",
    "print(e.ndim)"
   ]
  },
  {
   "cell_type": "code",
   "execution_count": 44,
   "id": "93085be1-1426-4f57-8655-1962bb82c07c",
   "metadata": {},
   "outputs": [
    {
     "name": "stdout",
     "output_type": "stream",
     "text": [
      "[[[[[1 1 1]\n",
      "    [1 1 1]]\n",
      "\n",
      "   [[1 1 1]\n",
      "    [1 1 1]]]\n",
      "\n",
      "\n",
      "  [[[1 1 1]\n",
      "    [1 1 1]]\n",
      "\n",
      "   [[1 1 1]\n",
      "    [1 1 1]]]]\n",
      "\n",
      "\n",
      "\n",
      " [[[[1 1 1]\n",
      "    [1 1 1]]\n",
      "\n",
      "   [[1 1 1]\n",
      "    [1 1 1]]]\n",
      "\n",
      "\n",
      "  [[[1 1 1]\n",
      "    [1 1 1]]\n",
      "\n",
      "   [[1 1 1]\n",
      "    [1 1 1]]]]\n",
      "\n",
      "\n",
      "\n",
      " [[[[1 1 1]\n",
      "    [1 1 1]]\n",
      "\n",
      "   [[1 1 1]\n",
      "    [1 1 1]]]\n",
      "\n",
      "\n",
      "  [[[1 1 1]\n",
      "    [1 1 1]]\n",
      "\n",
      "   [[1 1 1]\n",
      "    [1 1 1]]]]]\n",
      "5\n"
     ]
    }
   ],
   "source": [
    "k = np.ones([3,2,2,2,3],dtype=int)\n",
    "print(k)\n",
    "print(k.ndim)"
   ]
  },
  {
   "cell_type": "code",
   "execution_count": 47,
   "id": "9bd360c9-5ad4-4f21-899d-fbe37d68084f",
   "metadata": {
    "scrolled": true
   },
   "outputs": [
    {
     "name": "stdout",
     "output_type": "stream",
     "text": [
      "[[[[[1 1 1 1 1]\n",
      "    [1 1 1 1 1]\n",
      "    [1 1 1 1 1]\n",
      "    [1 1 1 1 1]]\n",
      "\n",
      "   [[1 1 1 1 1]\n",
      "    [1 1 1 1 1]\n",
      "    [1 1 1 1 1]\n",
      "    [1 1 1 1 1]]\n",
      "\n",
      "   [[1 1 1 1 1]\n",
      "    [1 1 1 1 1]\n",
      "    [1 1 1 1 1]\n",
      "    [1 1 1 1 1]]]\n",
      "\n",
      "\n",
      "  [[[1 1 1 1 1]\n",
      "    [1 1 1 1 1]\n",
      "    [1 1 1 1 1]\n",
      "    [1 1 1 1 1]]\n",
      "\n",
      "   [[1 1 1 1 1]\n",
      "    [1 1 1 1 1]\n",
      "    [1 1 1 1 1]\n",
      "    [1 1 1 1 1]]\n",
      "\n",
      "   [[1 1 1 1 1]\n",
      "    [1 1 1 1 1]\n",
      "    [1 1 1 1 1]\n",
      "    [1 1 1 1 1]]]]]\n",
      "5\n"
     ]
    }
   ],
   "source": [
    "l = np.ones([1,2,3,4,5],dtype=int)\n",
    "print(l)\n",
    "print(l.ndim)"
   ]
  },
  {
   "cell_type": "code",
   "execution_count": 14,
   "id": "5e759cfa-028c-4964-9687-6228fac3bf42",
   "metadata": {},
   "outputs": [
    {
     "name": "stdout",
     "output_type": "stream",
     "text": [
      "[[[1 1 1 1 1]\n",
      "  [1 1 1 1 1]\n",
      "  [1 1 1 1 1]]\n",
      "\n",
      " [[1 1 1 1 1]\n",
      "  [1 1 1 1 1]\n",
      "  [1 1 1 1 1]]\n",
      "\n",
      " [[1 1 1 1 1]\n",
      "  [1 1 1 1 1]\n",
      "  [1 1 1 1 1]]\n",
      "\n",
      " [[1 1 1 1 1]\n",
      "  [1 1 1 1 1]\n",
      "  [1 1 1 1 1]]]\n",
      "3\n"
     ]
    }
   ],
   "source": [
    "f = np.ones([4,3,5],dtype=int)\n",
    "print(f)\n",
    "print(f.ndim)"
   ]
  },
  {
   "cell_type": "code",
   "execution_count": 24,
   "id": "a129c56f-306e-4068-a47b-2736112c8bf4",
   "metadata": {},
   "outputs": [
    {
     "name": "stdout",
     "output_type": "stream",
     "text": [
      "[1 2 3 4 5 6 7 8 9]\n"
     ]
    }
   ],
   "source": [
    "g = np.array([1,2,3,4,5,6,7,8,9])\n",
    "print(g)"
   ]
  },
  {
   "cell_type": "code",
   "execution_count": 25,
   "id": "faa9fe5a-db38-4387-a309-66c94586a0ae",
   "metadata": {},
   "outputs": [
    {
     "name": "stdout",
     "output_type": "stream",
     "text": [
      "[[1 2 3]\n",
      " [4 5 6]\n",
      " [7 8 9]]\n",
      "2\n"
     ]
    }
   ],
   "source": [
    "h = g.reshape(3,3)\n",
    "print(h)\n",
    "print(h.ndim)"
   ]
  },
  {
   "cell_type": "code",
   "execution_count": 27,
   "id": "02a52674-65a7-4fb1-8ff2-d47b7a123ed8",
   "metadata": {},
   "outputs": [
    {
     "name": "stdout",
     "output_type": "stream",
     "text": [
      "[1 2 3 4 5 6 7 8 9]\n",
      "1\n"
     ]
    }
   ],
   "source": [
    "i = h.flatten()\n",
    "print(i)\n",
    "print(i.ndim)"
   ]
  },
  {
   "cell_type": "markdown",
   "id": "82bd1ca9-a1e6-4b43-8246-87b40146288b",
   "metadata": {},
   "source": [
    "Arrange -> np.arrange(n,m,x) [n,m) Includes n but doesn't include m and with equal x spacing by 3rd Argument"
   ]
  },
  {
   "cell_type": "code",
   "execution_count": 29,
   "id": "71e87653-4abe-4836-996f-39bb6fad420b",
   "metadata": {},
   "outputs": [
    {
     "name": "stdout",
     "output_type": "stream",
     "text": [
      "[ 0  3  6  9 12 15 18]\n"
     ]
    }
   ],
   "source": [
    "j = np.arange(0,20,3)\n",
    "print(j)"
   ]
  },
  {
   "cell_type": "markdown",
   "id": "b612c2db-bbdb-4efd-bc18-ce29df50dc74",
   "metadata": {},
   "source": [
    "Linspace -> np.linspace(n,m,x) Includes both n and m and divides the range evenly provided by the 3rd Argument x"
   ]
  },
  {
   "cell_type": "code",
   "execution_count": 48,
   "id": "17190fd9-c017-4670-b53a-8e644232f368",
   "metadata": {},
   "outputs": [
    {
     "name": "stdout",
     "output_type": "stream",
     "text": [
      "[ 0. 10. 20.]\n"
     ]
    }
   ],
   "source": [
    "m = np.linspace(0,20,3)\n",
    "print(m)"
   ]
  },
  {
   "cell_type": "code",
   "execution_count": 49,
   "id": "b66e94c7-24a7-4649-9eda-2b7c975cae4a",
   "metadata": {},
   "outputs": [
    {
     "name": "stdout",
     "output_type": "stream",
     "text": [
      "[ 0.  4.  8. 12. 16. 20.]\n"
     ]
    }
   ],
   "source": [
    "n = np.linspace(0,20,6)\n",
    "print(n)"
   ]
  },
  {
   "cell_type": "markdown",
   "id": "7a14d175-2a3a-49f7-883d-b3e8b91b5eef",
   "metadata": {},
   "source": [
    "random.rand -> gives random value till 1 for the given MxN matrix"
   ]
  },
  {
   "cell_type": "code",
   "execution_count": 54,
   "id": "74cfe6ec-1185-428e-be2c-0e9fa70b0f43",
   "metadata": {},
   "outputs": [
    {
     "name": "stdout",
     "output_type": "stream",
     "text": [
      "[[0.67141776 0.46421813]\n",
      " [0.80326067 0.78056159]\n",
      " [0.88932434 0.07202566]]\n",
      "2\n"
     ]
    }
   ],
   "source": [
    "o = np.random.rand(3,2)\n",
    "print(o)\n",
    "print(o.ndim)"
   ]
  },
  {
   "cell_type": "code",
   "execution_count": 55,
   "id": "813f96e7-8ebf-4513-9f2b-a1745d4a4122",
   "metadata": {},
   "outputs": [
    {
     "name": "stdout",
     "output_type": "stream",
     "text": [
      "[0.7439864  0.76277803 0.99649605 0.72494721 0.46238119]\n",
      "1\n"
     ]
    }
   ],
   "source": [
    "p = np.random.rand(5)\n",
    "print(p)\n",
    "print(p.ndim)"
   ]
  },
  {
   "cell_type": "markdown",
   "id": "f7abb18d-0cd7-4aac-8cf8-b7dc11d0b599",
   "metadata": {},
   "source": [
    "random.ranf -> same like random.rand but doesn't give the value 1"
   ]
  },
  {
   "cell_type": "code",
   "execution_count": 57,
   "id": "ec33103a-7bfa-43e4-8067-a3b712a7b088",
   "metadata": {},
   "outputs": [
    {
     "name": "stdout",
     "output_type": "stream",
     "text": [
      "[0.03281165 0.36094898 0.60049993 0.15575076 0.26893133 0.44454041]\n",
      "1\n"
     ]
    }
   ],
   "source": [
    "q = np.random.ranf(6)\n",
    "print(q)\n",
    "print(q.ndim)"
   ]
  },
  {
   "cell_type": "markdown",
   "id": "1546025a-c5f4-4355-877b-8da02a37b992",
   "metadata": {},
   "source": [
    "np.eye(m,n) -> gives the diagonal value as 1 and others as 0\n",
    "numpy.eye(N, M=None, k=0, dtype=<class ‘float’>, order=’C’)\n",
    "\n",
    "Parameters : \n",
    "\n",
    "R : Number of rows\n",
    "\n",
    "C : [optional] Number of columns; By default M = N\\\n",
    "\n",
    "k : [int, optional, 0 by default]\n",
    "Diagonal we require; k>0 means diagonal above main diagonal or vice versa.\n",
    "\n",
    "dtype : [optional, float(by Default)] Data type of returned array."
   ]
  },
  {
   "cell_type": "code",
   "execution_count": 62,
   "id": "8cae2513-5fa3-4eff-a336-72b7330120de",
   "metadata": {},
   "outputs": [
    {
     "name": "stdout",
     "output_type": "stream",
     "text": [
      "[[1. 0. 0. 0. 0.]\n",
      " [0. 1. 0. 0. 0.]\n",
      " [0. 0. 1. 0. 0.]]\n"
     ]
    }
   ],
   "source": [
    "r = np.eye(3,5)\n",
    "print(r)"
   ]
  },
  {
   "cell_type": "code",
   "execution_count": 63,
   "id": "bb001dbf-cf89-4d17-a603-5b2e380a2076",
   "metadata": {},
   "outputs": [
    {
     "name": "stdout",
     "output_type": "stream",
     "text": [
      "[[0. 1. 0. 0. 0.]\n",
      " [0. 0. 1. 0. 0.]\n",
      " [0. 0. 0. 1. 0.]]\n"
     ]
    }
   ],
   "source": [
    "r = np.eye(3,5,1)\n",
    "print(r)"
   ]
  },
  {
   "cell_type": "code",
   "execution_count": 60,
   "id": "c69b743a-3adb-44ad-b3aa-a02470bca773",
   "metadata": {},
   "outputs": [
    {
     "name": "stdout",
     "output_type": "stream",
     "text": [
      "[[1. 0. 0.]\n",
      " [0. 1. 0.]\n",
      " [0. 0. 1.]]\n"
     ]
    }
   ],
   "source": [
    "s = np.eye(3,3)\n",
    "print(s)"
   ]
  },
  {
   "cell_type": "code",
   "execution_count": 68,
   "id": "e6fa5e92-2d82-44ad-b24f-31d74d7e88ab",
   "metadata": {},
   "outputs": [
    {
     "name": "stdout",
     "output_type": "stream",
     "text": [
      "[1 2]\n",
      "[3 4]\n",
      "[1 2 3 4]\n"
     ]
    }
   ],
   "source": [
    "t = np.array([1,2])\n",
    "print(t)\n",
    "u = np.array([3,4])\n",
    "print(u)\n",
    "con = np.concatenate((t,u),axis=0)\n",
    "print(con)"
   ]
  },
  {
   "cell_type": "code",
   "execution_count": 71,
   "id": "e4763446-6a17-411e-b607-40b8f628e233",
   "metadata": {},
   "outputs": [
    {
     "name": "stdout",
     "output_type": "stream",
     "text": [
      "[[1 2]\n",
      " [3 4]]\n",
      "[[5 6]\n",
      " [7 8]]\n",
      "[[1 2]\n",
      " [3 4]\n",
      " [5 6]\n",
      " [7 8]]\n",
      "-------------\n",
      "[[1 2 5 6]\n",
      " [3 4 7 8]]\n"
     ]
    }
   ],
   "source": [
    "v = np.array([[1,2],[3,4]])\n",
    "print(v)\n",
    "w = np.array([[5,6],[7,8]])\n",
    "print(w)\n",
    "con = np.concatenate((v,w),axis=0)\n",
    "print(con)\n",
    "print(\"-------------\")\n",
    "con = np.concatenate((v,w),axis=1)\n",
    "print(con)"
   ]
  },
  {
   "cell_type": "code",
   "execution_count": 72,
   "id": "42326d7a-d9e1-4921-91df-8b4fe41ca293",
   "metadata": {},
   "outputs": [
    {
     "name": "stdout",
     "output_type": "stream",
     "text": [
      "[4 6]\n"
     ]
    }
   ],
   "source": [
    "x = np.array([1,2])\n",
    "y = np.array([3,4])\n",
    "z = np.add(x,y)\n",
    "print(z)"
   ]
  },
  {
   "cell_type": "code",
   "execution_count": null,
   "id": "c78e38b8-0b1f-4192-91f9-0a2a13ed13c7",
   "metadata": {},
   "outputs": [],
   "source": []
  }
 ],
 "metadata": {
  "kernelspec": {
   "display_name": "Python 3 (ipykernel)",
   "language": "python",
   "name": "python3"
  },
  "language_info": {
   "codemirror_mode": {
    "name": "ipython",
    "version": 3
   },
   "file_extension": ".py",
   "mimetype": "text/x-python",
   "name": "python",
   "nbconvert_exporter": "python",
   "pygments_lexer": "ipython3",
   "version": "3.13.2"
  }
 },
 "nbformat": 4,
 "nbformat_minor": 5
}
