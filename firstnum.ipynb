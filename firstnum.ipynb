{
 "cells": [
  {
   "cell_type": "markdown",
   "id": "f8934a98-ad67-4dac-bdd8-0035779acaf5",
   "metadata": {},
   "source": [
    "FIRST NUMPY CHECK"
   ]
  },
  {
   "cell_type": "code",
   "execution_count": 1,
   "id": "dc69f98e-cf02-4bdb-96db-f7b0eb6d59cd",
   "metadata": {
    "panel-layout": {
     "height": 0,
     "visible": true,
     "width": 100
    }
   },
   "outputs": [
    {
     "name": "stdout",
     "output_type": "stream",
     "text": [
      "NumPy version: 1.26.4\n"
     ]
    }
   ],
   "source": [
    "import numpy as np\n",
    "print(\"NumPy version:\", np.__version__)\n"
   ]
  },
  {
   "cell_type": "code",
   "execution_count": 2,
   "id": "ea431274-f845-432d-8c7f-b715438278c7",
   "metadata": {},
   "outputs": [],
   "source": [
    "import numpy as np\n",
    "a=np.array([1,5,6,7,8])"
   ]
  },
  {
   "cell_type": "code",
   "execution_count": 3,
   "id": "a8968df7-7fc8-4a1e-9e74-049f7b5aa5d5",
   "metadata": {
    "panel-layout": {
     "height": 0,
     "visible": true,
     "width": 100
    }
   },
   "outputs": [
    {
     "name": "stdout",
     "output_type": "stream",
     "text": [
      "[1 5 6 7 8]\n"
     ]
    }
   ],
   "source": [
    "print(a)"
   ]
  },
  {
   "cell_type": "markdown",
   "id": "6f381b85-cfc5-43d6-b6e7-08c84786daaf",
   "metadata": {},
   "source": [
    "2D ARRAY"
   ]
  },
  {
   "cell_type": "code",
   "execution_count": 5,
   "id": "264a424d-efde-4725-8be2-934341e61e9b",
   "metadata": {},
   "outputs": [
    {
     "name": "stdout",
     "output_type": "stream",
     "text": [
      "[[5 7 8 9]]\n"
     ]
    }
   ],
   "source": [
    "b = np.array([[5,7,8,9]])\n",
    "print(b)"
   ]
  },
  {
   "cell_type": "markdown",
   "id": "82bd0b78-1ce9-4a61-98ce-0a089508d6ca",
   "metadata": {},
   "source": [
    "3D ARRAY"
   ]
  },
  {
   "cell_type": "code",
   "execution_count": 8,
   "id": "02719df0-340d-4798-93c3-3aa2e6e852c2",
   "metadata": {},
   "outputs": [
    {
     "name": "stdout",
     "output_type": "stream",
     "text": [
      "[[[5 7 8 9]]]\n"
     ]
    }
   ],
   "source": [
    "b = np.array([[[5,7,8,9]]])\n",
    "print(b)"
   ]
  },
  {
   "cell_type": "code",
   "execution_count": null,
   "id": "962ec528-a893-48e1-af44-3543259e644e",
   "metadata": {},
   "outputs": [],
   "source": []
  }
 ],
 "metadata": {
  "kernelspec": {
   "display_name": "Python 3 (ipykernel)",
   "language": "python",
   "name": "python3"
  },
  "language_info": {
   "codemirror_mode": {
    "name": "ipython",
    "version": 3
   },
   "file_extension": ".py",
   "mimetype": "text/x-python",
   "name": "python",
   "nbconvert_exporter": "python",
   "pygments_lexer": "ipython3",
   "version": "3.12.7"
  },
  "panel-cell-order": [
   "dc69f98e-cf02-4bdb-96db-f7b0eb6d59cd",
   "a8968df7-7fc8-4a1e-9e74-049f7b5aa5d5"
  ]
 },
 "nbformat": 4,
 "nbformat_minor": 5
}
