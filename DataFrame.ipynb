{
 "cells": [
  {
   "cell_type": "code",
   "execution_count": 2,
   "id": "2002c66f-bb85-4508-a33b-c0a605dfc9e9",
   "metadata": {},
   "outputs": [],
   "source": [
    "import pandas as pd"
   ]
  },
  {
   "cell_type": "code",
   "execution_count": 6,
   "id": "a71ac846-3418-4bd7-af39-142e274f9db0",
   "metadata": {},
   "outputs": [
    {
     "name": "stdout",
     "output_type": "stream",
     "text": [
      "       Name Gender   Age\n",
      "0      Abir      M  21.0\n",
      "1    Trijal      M   NaN\n",
      "2      None      M  22.0\n",
      "3  Kanishka   None  23.0\n"
     ]
    }
   ],
   "source": [
    "a = pd.DataFrame({\"Name\":[\"Abir\",\"Trijal\",None,\"Kanishka\"],\"Gender\":[\"M\",\"M\",\"M\",None],\"Age\":[21,None,22,23]})\n",
    "print(a)"
   ]
  },
  {
   "cell_type": "code",
   "execution_count": 17,
   "id": "c1350e6f-66db-42c0-af6e-7de86214d8b1",
   "metadata": {},
   "outputs": [
    {
     "name": "stdout",
     "output_type": "stream",
     "text": [
      "       Name Gender   Age\n",
      "0      Abir      M  21.0\n",
      "1    Trijal      M   NaN\n",
      "2      None      M  22.0\n",
      "3  Kanishka   None  23.0\n",
      "       Name Gender   Age\n",
      "0      Abir      M  21.0\n",
      "1    Trijal      M  21.0\n",
      "2    Trijal      M  22.0\n",
      "3  Kanishka      M  23.0\n",
      "       Name Gender   Age\n",
      "0      Abir      M  21.0\n",
      "1    Trijal      M  22.0\n",
      "2  Kanishka      M  22.0\n",
      "3  Kanishka   None  23.0\n"
     ]
    }
   ],
   "source": [
    "print(a)\n",
    "print(a.ffill())\n",
    "# print(a.fillna(obj.ffill()))\n",
    "print(a.bfill())\n",
    "# print(a.fillna(method=\"bfill\"))"
   ]
  },
  {
   "cell_type": "code",
   "execution_count": 4,
   "id": "adff188d-0538-4257-bb37-74802ca3e07e",
   "metadata": {},
   "outputs": [
    {
     "data": {
      "text/html": [
       "<div>\n",
       "<style scoped>\n",
       "    .dataframe tbody tr th:only-of-type {\n",
       "        vertical-align: middle;\n",
       "    }\n",
       "\n",
       "    .dataframe tbody tr th {\n",
       "        vertical-align: top;\n",
       "    }\n",
       "\n",
       "    .dataframe thead th {\n",
       "        text-align: right;\n",
       "    }\n",
       "</style>\n",
       "<table border=\"1\" class=\"dataframe\">\n",
       "  <thead>\n",
       "    <tr style=\"text-align: right;\">\n",
       "      <th></th>\n",
       "      <th>Name</th>\n",
       "    </tr>\n",
       "  </thead>\n",
       "  <tbody>\n",
       "    <tr>\n",
       "      <th>0</th>\n",
       "      <td>Abir</td>\n",
       "    </tr>\n",
       "    <tr>\n",
       "      <th>1</th>\n",
       "      <td>Trijal</td>\n",
       "    </tr>\n",
       "    <tr>\n",
       "      <th>2</th>\n",
       "      <td>Kanishka</td>\n",
       "    </tr>\n",
       "  </tbody>\n",
       "</table>\n",
       "</div>"
      ],
      "text/plain": [
       "       Name\n",
       "0      Abir\n",
       "1    Trijal\n",
       "2  Kanishka"
      ]
     },
     "execution_count": 4,
     "metadata": {},
     "output_type": "execute_result"
    }
   ],
   "source": [
    "a[[\"Name\"]]"
   ]
  },
  {
   "cell_type": "code",
   "execution_count": 5,
   "id": "1366da2f-0253-4c9a-9841-fb156dfddcfd",
   "metadata": {},
   "outputs": [
    {
     "data": {
      "text/plain": [
       "0        Abir\n",
       "1      Trijal\n",
       "2    Kanishka\n",
       "Name: Name, dtype: object"
      ]
     },
     "execution_count": 5,
     "metadata": {},
     "output_type": "execute_result"
    }
   ],
   "source": [
    "a[\"Name\"]"
   ]
  },
  {
   "cell_type": "code",
   "execution_count": 6,
   "id": "1a9f927c-e6cd-4251-ba6f-a2ce383ddf1b",
   "metadata": {},
   "outputs": [
    {
     "data": {
      "text/html": [
       "<div>\n",
       "<style scoped>\n",
       "    .dataframe tbody tr th:only-of-type {\n",
       "        vertical-align: middle;\n",
       "    }\n",
       "\n",
       "    .dataframe tbody tr th {\n",
       "        vertical-align: top;\n",
       "    }\n",
       "\n",
       "    .dataframe thead th {\n",
       "        text-align: right;\n",
       "    }\n",
       "</style>\n",
       "<table border=\"1\" class=\"dataframe\">\n",
       "  <thead>\n",
       "    <tr style=\"text-align: right;\">\n",
       "      <th></th>\n",
       "      <th>Name</th>\n",
       "      <th>Age</th>\n",
       "    </tr>\n",
       "  </thead>\n",
       "  <tbody>\n",
       "    <tr>\n",
       "      <th>0</th>\n",
       "      <td>Abir</td>\n",
       "      <td>21</td>\n",
       "    </tr>\n",
       "    <tr>\n",
       "      <th>1</th>\n",
       "      <td>Trijal</td>\n",
       "      <td>22</td>\n",
       "    </tr>\n",
       "    <tr>\n",
       "      <th>2</th>\n",
       "      <td>Kanishka</td>\n",
       "      <td>23</td>\n",
       "    </tr>\n",
       "  </tbody>\n",
       "</table>\n",
       "</div>"
      ],
      "text/plain": [
       "       Name  Age\n",
       "0      Abir   21\n",
       "1    Trijal   22\n",
       "2  Kanishka   23"
      ]
     },
     "execution_count": 6,
     "metadata": {},
     "output_type": "execute_result"
    }
   ],
   "source": [
    "a[[\"Name\",\"Age\"]]"
   ]
  },
  {
   "cell_type": "code",
   "execution_count": 7,
   "id": "9b650293-a5e2-43ef-a15d-2ac0c2a3ff73",
   "metadata": {},
   "outputs": [
    {
     "name": "stdout",
     "output_type": "stream",
     "text": [
      "       Name Gender  Age\n",
      "0      Abir      M   21\n",
      "1    Trijal      M   22\n",
      "2  Kanishka      M   23\n"
     ]
    }
   ],
   "source": [
    "a[\"Class\"]:[\"UK\",\"UK\",\"UK\"]\n",
    "print(a)"
   ]
  },
  {
   "cell_type": "code",
   "execution_count": 8,
   "id": "01d7c620-5f83-43b1-bb38-68d4b20b7a73",
   "metadata": {},
   "outputs": [
    {
     "name": "stdout",
     "output_type": "stream",
     "text": [
      "       Name Gender  Age State\n",
      "0      Abir      M   21    AS\n",
      "1    Trijal      M   22    WB\n",
      "2  Kanishka      M   23    PB\n"
     ]
    }
   ],
   "source": [
    "a[\"State\"]=[\"AS\",\"WB\",\"PB\"]\n",
    "print(a)"
   ]
  },
  {
   "cell_type": "code",
   "execution_count": 9,
   "id": "9413f418-2e5d-4adb-98fc-b371f72dc01c",
   "metadata": {},
   "outputs": [],
   "source": [
    "a.insert(2, \"CGPA\", [10, 10, 10])"
   ]
  },
  {
   "cell_type": "code",
   "execution_count": 10,
   "id": "dc5af21a-17e6-4ca9-a4da-ca4252d952cd",
   "metadata": {},
   "outputs": [
    {
     "name": "stdout",
     "output_type": "stream",
     "text": [
      "       Name Gender  CGPA  Age State\n",
      "0      Abir      M    10   21    AS\n",
      "1    Trijal      M    10   22    WB\n",
      "2  Kanishka      M    10   23    PB\n"
     ]
    }
   ],
   "source": [
    "print(a)"
   ]
  },
  {
   "cell_type": "code",
   "execution_count": 11,
   "id": "e856fac5-8541-4ae3-a5db-329ee1de3fef",
   "metadata": {},
   "outputs": [
    {
     "data": {
      "text/plain": [
       "Name      object\n",
       "Gender    object\n",
       "CGPA       int64\n",
       "Age        int64\n",
       "State     object\n",
       "dtype: object"
      ]
     },
     "execution_count": 11,
     "metadata": {},
     "output_type": "execute_result"
    }
   ],
   "source": [
    "a.dtypes"
   ]
  },
  {
   "cell_type": "code",
   "execution_count": 12,
   "id": "e159c356-520b-4487-82c8-53c5fbea76e6",
   "metadata": {},
   "outputs": [
    {
     "data": {
      "text/plain": [
       "Index(['Name', 'Gender', 'CGPA', 'Age', 'State'], dtype='object')"
      ]
     },
     "execution_count": 12,
     "metadata": {},
     "output_type": "execute_result"
    }
   ],
   "source": [
    "a.keys()"
   ]
  },
  {
   "cell_type": "code",
   "execution_count": 13,
   "id": "b52c184f-5100-44a1-aa2c-e336b0f97fae",
   "metadata": {},
   "outputs": [
    {
     "data": {
      "text/plain": [
       "RangeIndex(start=0, stop=3, step=1)"
      ]
     },
     "execution_count": 13,
     "metadata": {},
     "output_type": "execute_result"
    }
   ],
   "source": [
    "a.index"
   ]
  },
  {
   "cell_type": "code",
   "execution_count": 14,
   "id": "08e62bff-8d7b-4bbd-8812-9855d8c3dd8c",
   "metadata": {},
   "outputs": [
    {
     "data": {
      "text/plain": [
       "Index(['Name', 'Gender', 'CGPA', 'Age', 'State'], dtype='object')"
      ]
     },
     "execution_count": 14,
     "metadata": {},
     "output_type": "execute_result"
    }
   ],
   "source": [
    "a.columns"
   ]
  },
  {
   "cell_type": "code",
   "execution_count": 15,
   "id": "cd951ed4-ac7d-4cd3-ae87-5e18ee72e4fd",
   "metadata": {},
   "outputs": [
    {
     "name": "stdout",
     "output_type": "stream",
     "text": [
      "       Name Gender  CGPA  Age State Kuch Bhi\n",
      "0      Abir      M    10   21    AS      ese\n",
      "1    Trijal      M    10   22    WB     wese\n",
      "2  Kanishka      M    10   23    PB     kese\n"
     ]
    }
   ],
   "source": [
    "a[\"Kuch Bhi\"]=[\"ese\",\"wese\",\"kese\"]\n",
    "print(a)"
   ]
  },
  {
   "cell_type": "code",
   "execution_count": 16,
   "id": "ee852a20-deb5-4cef-9ffc-eb0cd34b7faa",
   "metadata": {},
   "outputs": [
    {
     "data": {
      "text/plain": [
       "0     ese\n",
       "1    wese\n",
       "2    kese\n",
       "Name: Kuch Bhi, dtype: object"
      ]
     },
     "execution_count": 16,
     "metadata": {},
     "output_type": "execute_result"
    }
   ],
   "source": [
    "a.pop(\"Kuch Bhi\")"
   ]
  },
  {
   "cell_type": "code",
   "execution_count": 17,
   "id": "98c59db5-de32-408d-8217-fde8310fe365",
   "metadata": {},
   "outputs": [
    {
     "name": "stdout",
     "output_type": "stream",
     "text": [
      "       Name Gender  CGPA  Age State\n",
      "0      Abir      M    10   21    AS\n",
      "1    Trijal      M    10   22    WB\n",
      "2  Kanishka      M    10   23    PB\n"
     ]
    }
   ],
   "source": [
    "print(a)"
   ]
  },
  {
   "cell_type": "code",
   "execution_count": 18,
   "id": "999501bb-1cd5-46d6-9b76-7edd6b437e8b",
   "metadata": {},
   "outputs": [],
   "source": [
    "a.to_csv(\"K23Pandas.csv\")"
   ]
  },
  {
   "cell_type": "code",
   "execution_count": 19,
   "id": "c1cdaff4-b2b5-4b5e-89c1-973ec916b9c1",
   "metadata": {},
   "outputs": [
    {
     "name": "stdout",
     "output_type": "stream",
     "text": [
      "   Unnamed: 0      Name Gender  CGPA  Age State\n",
      "0           0      Abir      M    10   21    AS\n",
      "1           1    Trijal      M    10   22    WB\n",
      "2           2  Kanishka      M    10   23    PB\n"
     ]
    }
   ],
   "source": [
    "read = pd.read_csv(\"K23Pandas.csv\")\n",
    "type(read)\n",
    "print(read)"
   ]
  },
  {
   "cell_type": "code",
   "execution_count": 3,
   "id": "7ca1adcf-acee-438e-adf6-7e341b9f72d3",
   "metadata": {},
   "outputs": [
    {
     "name": "stdout",
     "output_type": "stream",
     "text": [
      "  Name  Age Add\n",
      "A   AB   20  AS\n",
      "B   TJ   21  WB\n",
      "C   KA   22  PB\n",
      "D   AM   23  PB\n"
     ]
    }
   ],
   "source": [
    "b = pd.DataFrame({\"Name\":[\"AB\",\"TJ\",\"KA\",\"AM\"],\"Age\":[20,21,22,23],\"Add\":[\"AS\",\"WB\",\"PB\",\"PB\"]},index=[\"A\",\"B\",\"C\",\"D\"])\n",
    "print(b)"
   ]
  },
  {
   "cell_type": "code",
   "execution_count": null,
   "id": "3ea5cad0-2811-4ebf-bed5-b12710d75c8b",
   "metadata": {},
   "outputs": [],
   "source": []
  }
 ],
 "metadata": {
  "kernelspec": {
   "display_name": "Python 3 (ipykernel)",
   "language": "python",
   "name": "python3"
  },
  "language_info": {
   "codemirror_mode": {
    "name": "ipython",
    "version": 3
   },
   "file_extension": ".py",
   "mimetype": "text/x-python",
   "name": "python",
   "nbconvert_exporter": "python",
   "pygments_lexer": "ipython3",
   "version": "3.13.2"
  }
 },
 "nbformat": 4,
 "nbformat_minor": 5
}
