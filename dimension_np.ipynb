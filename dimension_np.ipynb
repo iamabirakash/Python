{
 "cells": [
  {
   "cell_type": "code",
   "execution_count": 3,
   "id": "865de0a8-65c4-4817-a28d-4ee142658938",
   "metadata": {},
   "outputs": [
    {
     "name": "stdout",
     "output_type": "stream",
     "text": [
      "Hello\n"
     ]
    }
   ],
   "source": [
    "print(\"Hello\")"
   ]
  },
  {
   "cell_type": "code",
   "execution_count": 6,
   "id": "ea7be478-73fe-44ec-9877-c7541b887b38",
   "metadata": {},
   "outputs": [
    {
     "name": "stdout",
     "output_type": "stream",
     "text": [
      "[1 2 3 4 5 6]\n",
      "1\n"
     ]
    }
   ],
   "source": [
    "import numpy as np\n",
    "a = np.array([1,2,3,4,5,6])\n",
    "print(a)\n",
    "print(a.ndim)"
   ]
  },
  {
   "cell_type": "code",
   "execution_count": 7,
   "id": "40eecd2c-bb79-4ef1-9b9a-1d6d28292b34",
   "metadata": {},
   "outputs": [
    {
     "name": "stdout",
     "output_type": "stream",
     "text": [
      "[[1 2 3 4 5 6]]\n",
      "2\n"
     ]
    }
   ],
   "source": [
    "b = np.array([[1,2,3,4,5,6]])\n",
    "print(b)\n",
    "print(b.ndim)"
   ]
  },
  {
   "cell_type": "code",
   "execution_count": 10,
   "id": "d2e713f0-b8ad-4e6f-8c24-d923ef576fff",
   "metadata": {},
   "outputs": [
    {
     "name": "stdout",
     "output_type": "stream",
     "text": [
      "[[[1 2 3 4 5 6]]]\n",
      "3\n"
     ]
    }
   ],
   "source": [
    "c = np.array([[[1,2,3,4,5,6]]])\n",
    "print(c)\n",
    "print(c.ndim)"
   ]
  },
  {
   "cell_type": "markdown",
   "id": "2af8f4b9-79dd-43ca-b981-732918af4ec5",
   "metadata": {},
   "source": [
    "NDMIN is used to specify the Dimension of a given array"
   ]
  },
  {
   "cell_type": "code",
   "execution_count": 13,
   "id": "1731a900-decf-4587-acc2-d9967a7b7db3",
   "metadata": {},
   "outputs": [
    {
     "name": "stdout",
     "output_type": "stream",
     "text": [
      "[[[[[[[[[[1 2 3 4 5 6]]]]]]]]]]\n",
      "10\n"
     ]
    }
   ],
   "source": [
    "d = np.array([1,2,3,4,5,6],ndmin = 10)\n",
    "print(d)\n",
    "print(d.ndim)"
   ]
  },
  {
   "cell_type": "code",
   "execution_count": 39,
   "id": "b6daee8e-2c0d-490b-8a28-dbd3e85d9f7d",
   "metadata": {},
   "outputs": [
    {
     "name": "stdout",
     "output_type": "stream",
     "text": [
      "[0. 0. 0. 0. 0.]\n",
      "<class 'numpy.ndarray'>\n",
      "float64\n"
     ]
    }
   ],
   "source": [
    "g = np.zeros(5)\n",
    "print(g)\n",
    "print(type(g))\n",
    "print(g.dtype)"
   ]
  },
  {
   "cell_type": "code",
   "execution_count": 42,
   "id": "9c0dad0f-1420-45bf-b1c5-bbd758e98780",
   "metadata": {},
   "outputs": [
    {
     "name": "stdout",
     "output_type": "stream",
     "text": [
      "[0 0 0 0 0]\n",
      "<class 'numpy.ndarray'>\n",
      "1\n",
      "int64\n"
     ]
    }
   ],
   "source": [
    "h = np.zeros(5,dtype=int)\n",
    "print(h)\n",
    "print(type(h))\n",
    "print(h.ndim)\n",
    "print(h.dtype)"
   ]
  },
  {
   "cell_type": "code",
   "execution_count": 40,
   "id": "674b6afd-2e6a-4492-8fd6-8024f92fd254",
   "metadata": {},
   "outputs": [
    {
     "name": "stdout",
     "output_type": "stream",
     "text": [
      "[[0. 0.]\n",
      " [0. 0.]\n",
      " [0. 0.]]\n",
      "<class 'numpy.ndarray'>\n",
      "2\n",
      "float64\n"
     ]
    }
   ],
   "source": [
    "e = np.zeros([3,2])\n",
    "print(e)\n",
    "print(type(e))\n",
    "print(e.ndim)\n",
    "print(e.dtype)"
   ]
  },
  {
   "cell_type": "code",
   "execution_count": 46,
   "id": "4a7cd1eb-8741-444a-85fa-2fa916f4263a",
   "metadata": {},
   "outputs": [
    {
     "name": "stdout",
     "output_type": "stream",
     "text": [
      "[[0. 0.]\n",
      " [0. 0.]\n",
      " [0. 0.]]\n",
      "2\n",
      "float64\n"
     ]
    }
   ],
   "source": [
    "f = np.zeros([3,2],dtype=int)\n",
    "print(e)\n",
    "print(e.ndim)\n",
    "print(e.dtype)"
   ]
  },
  {
   "cell_type": "code",
   "execution_count": 49,
   "id": "e5a69f2f-321c-4801-9a5a-ea7e93368552",
   "metadata": {},
   "outputs": [
    {
     "name": "stdout",
     "output_type": "stream",
     "text": [
      "[ 1  6 11 16 21 26]\n"
     ]
    }
   ],
   "source": [
    "i = np.arange(1,31,5)\n",
    "print(i)"
   ]
  },
  {
   "cell_type": "code",
   "execution_count": 53,
   "id": "24fb655e-66f3-4092-b36c-e9c099920799",
   "metadata": {},
   "outputs": [
    {
     "name": "stdout",
     "output_type": "stream",
     "text": [
      "[[[[[[[[[[0 0 0]\n",
      "         [0 0 0]\n",
      "         [0 0 0]]]]]]]]]]\n"
     ]
    }
   ],
   "source": [
    "j = np.zeros([3,3],dtype=int)\n",
    "k = np.array(j,ndmin=10)\n",
    "print(k)"
   ]
  },
  {
   "cell_type": "code",
   "execution_count": 54,
   "id": "1fc61ca3-d443-4e0b-b14a-c6e2dc1a3d4d",
   "metadata": {},
   "outputs": [
    {
     "name": "stdout",
     "output_type": "stream",
     "text": [
      "[[[[[[[[[[0. 0. 0.]\n",
      "         [0. 0. 0.]\n",
      "         [0. 0. 0.]]]]]]]]]]\n"
     ]
    }
   ],
   "source": [
    "j = np.array(np.zeros([3,3]),ndmin = 10)\n",
    "print(j)"
   ]
  },
  {
   "cell_type": "code",
   "execution_count": null,
   "id": "52267c0c-4f09-4b45-ba11-0f6ab1d03a90",
   "metadata": {},
   "outputs": [],
   "source": []
  }
 ],
 "metadata": {
  "kernelspec": {
   "display_name": "Python 3 (ipykernel)",
   "language": "python",
   "name": "python3"
  },
  "language_info": {
   "codemirror_mode": {
    "name": "ipython",
    "version": 3
   },
   "file_extension": ".py",
   "mimetype": "text/x-python",
   "name": "python",
   "nbconvert_exporter": "python",
   "pygments_lexer": "ipython3",
   "version": "3.13.2"
  }
 },
 "nbformat": 4,
 "nbformat_minor": 5
}
