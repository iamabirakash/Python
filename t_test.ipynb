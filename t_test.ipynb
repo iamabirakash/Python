{
 "cells": [
  {
   "cell_type": "code",
   "execution_count": 2,
   "id": "158e116f-fbe9-40ef-8a3f-c346b2a7305e",
   "metadata": {},
   "outputs": [],
   "source": [
    "import numpy as np\n",
    "from scipy import stats"
   ]
  },
  {
   "cell_type": "code",
   "execution_count": 4,
   "id": "dcaddda4-7e55-4362-97c3-f4bb08a98724",
   "metadata": {},
   "outputs": [
    {
     "name": "stdout",
     "output_type": "stream",
     "text": [
      "4.387862045841161 0.0023241881225952348\n"
     ]
    }
   ],
   "source": [
    "group1 = np.array([85,88,90,92,87])\n",
    "group2 = np.array([78,80,85,82,79])\n",
    "t_test,pvalue=stats.ttest_ind(group1,group2)\n",
    "print(t_test,pvalue)"
   ]
  },
  {
   "cell_type": "code",
   "execution_count": 8,
   "id": "10069d25-6e08-491a-a2f7-4a4624246acd",
   "metadata": {},
   "outputs": [
    {
     "name": "stdout",
     "output_type": "stream",
     "text": [
      "Rej null Hypo\n"
     ]
    }
   ],
   "source": [
    "alpha=0.05\n",
    "if pvalue<alpha:\n",
    "    print(\"Rej null Hypo\")\n",
    "else:\n",
    "    print(\"Unable yo rej null hypo\")"
   ]
  },
  {
   "cell_type": "code",
   "execution_count": null,
   "id": "92cb2c0f-eecd-4edb-aa98-269b27c5bedd",
   "metadata": {},
   "outputs": [],
   "source": []
  }
 ],
 "metadata": {
  "kernelspec": {
   "display_name": "Python 3 (ipykernel)",
   "language": "python",
   "name": "python3"
  },
  "language_info": {
   "codemirror_mode": {
    "name": "ipython",
    "version": 3
   },
   "file_extension": ".py",
   "mimetype": "text/x-python",
   "name": "python",
   "nbconvert_exporter": "python",
   "pygments_lexer": "ipython3",
   "version": "3.13.2"
  }
 },
 "nbformat": 4,
 "nbformat_minor": 5
}
