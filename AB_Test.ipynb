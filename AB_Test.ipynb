{
 "cells": [
  {
   "cell_type": "code",
   "execution_count": 2,
   "id": "e7124ab2-e319-46a4-836e-1786281c499e",
   "metadata": {},
   "outputs": [],
   "source": [
    "from statsmodels.stats.proportion import proportions_ztest"
   ]
  },
  {
   "cell_type": "code",
   "execution_count": 3,
   "id": "db795830-534e-4665-b09b-afd836865d19",
   "metadata": {},
   "outputs": [],
   "source": [
    "a_succ,a_total = 200,500\n",
    "b_succ,b_total = 220,500"
   ]
  },
  {
   "cell_type": "code",
   "execution_count": 4,
   "id": "c982a0b2-ca55-437e-b48b-08eb00a7d147",
   "metadata": {},
   "outputs": [
    {
     "name": "stdout",
     "output_type": "stream",
     "text": [
      "-1.2814195740641485 0.20004633248771242\n"
     ]
    }
   ],
   "source": [
    "z_score,p_value = proportions_ztest(\n",
    "    [a_succ,b_succ],\n",
    "    [a_total,b_total]\n",
    ")\n",
    "print(z_score,p_value)"
   ]
  },
  {
   "cell_type": "code",
   "execution_count": 5,
   "id": "f5984095-3984-4802-b776-2bd5573216d0",
   "metadata": {},
   "outputs": [
    {
     "name": "stdout",
     "output_type": "stream",
     "text": [
      "Not changing pos of chart\n"
     ]
    }
   ],
   "source": [
    "alpha = 0.05\n",
    "if p_value<alpha:\n",
    "    print(\"Changing pos of chart\")\n",
    "else:\n",
    "    print(\"Not changing pos of chart\")"
   ]
  },
  {
   "cell_type": "code",
   "execution_count": null,
   "id": "7f08b260-9706-4a69-aae8-ad9c3988f4ea",
   "metadata": {},
   "outputs": [],
   "source": []
  }
 ],
 "metadata": {
  "kernelspec": {
   "display_name": "Python 3 (ipykernel)",
   "language": "python",
   "name": "python3"
  },
  "language_info": {
   "codemirror_mode": {
    "name": "ipython",
    "version": 3
   },
   "file_extension": ".py",
   "mimetype": "text/x-python",
   "name": "python",
   "nbconvert_exporter": "python",
   "pygments_lexer": "ipython3",
   "version": "3.13.2"
  }
 },
 "nbformat": 4,
 "nbformat_minor": 5
}
