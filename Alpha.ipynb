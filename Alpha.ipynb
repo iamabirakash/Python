{
 "cells": [
  {
   "cell_type": "code",
   "execution_count": 9,
   "id": "9bf91e27-f570-4d71-9a13-5b1711487431",
   "metadata": {},
   "outputs": [],
   "source": [
    "import numpy as np \n",
    "from statsmodels.stats.weightstats import ztest"
   ]
  },
  {
   "cell_type": "code",
   "execution_count": 10,
   "id": "3c3751f5-d9a1-4110-964c-b1bf068dc0e9",
   "metadata": {},
   "outputs": [
    {
     "name": "stdout",
     "output_type": "stream",
     "text": [
      "[11.8, 11.8, 11.8, 11.8, 11.8, 11.8, 11.8, 11.8, 11.8, 11.8, 11.8, 11.8, 11.8, 11.8, 11.8, 11.8, 11.8, 11.8, 11.8, 11.8, 11.8, 11.8, 11.8, 11.8, 11.8, 11.8, 11.8, 11.8, 11.8, 11.8, 11.8, 11.8, 11.8, 11.8, 11.8, 11.8, 11.8, 11.8, 11.8, 11.8, 11.8, 11.8, 11.8, 11.8, 11.8, 11.8, 11.8, 11.8, 11.8, 11.8, 11.8, 11.8, 11.8, 11.8, 11.8, 11.8, 11.8, 11.8, 11.8, 11.8, 11.8, 11.8, 11.8, 11.8, 11.8, 11.8, 11.8, 11.8, 11.8, 11.8, 11.8, 11.8, 11.8, 11.8, 11.8, 11.8, 11.8, 11.8, 11.8, 11.8, 11.8, 11.8, 11.8, 11.8, 11.8, 11.8, 11.8, 11.8, 11.8, 11.8, 11.8, 11.8, 11.8, 11.8, 11.8, 11.8, 11.8, 11.8, 11.8, 11.8]\n"
     ]
    }
   ],
   "source": [
    "data = [11.8]*100\n",
    "print(data)\n",
    "popu_mean = 12"
   ]
  },
  {
   "cell_type": "code",
   "execution_count": 13,
   "id": "efe5924d-c722-4289-b50e-f9d7d905b86e",
   "metadata": {},
   "outputs": [
    {
     "name": "stdout",
     "output_type": "stream",
     "text": [
      "Value of z_test -560128131373970.25\n",
      "Value of p:  0.0\n"
     ]
    }
   ],
   "source": [
    "z_state,p_value = ztest(data,value=popu_mean)\n",
    "print(\"Value of z_test\",z_state)\n",
    "print(\"Value of p: \", p_value)"
   ]
  },
  {
   "cell_type": "code",
   "execution_count": 15,
   "id": "6df803fd-3a7f-455b-ba1d-ebf97ce3b721",
   "metadata": {},
   "outputs": [
    {
     "name": "stdout",
     "output_type": "stream",
     "text": [
      "Rej the Hypo\n"
     ]
    }
   ],
   "source": [
    "alpha = 0.05\n",
    "if p_value<alpha:\n",
    "    print(\"Rej the Hypo\")\n",
    "else:\n",
    "    print(\"Unable to Rej the Hypo\")"
   ]
  },
  {
   "cell_type": "code",
   "execution_count": null,
   "id": "bbdd191d-f852-4eef-8823-8152e5740d3f",
   "metadata": {},
   "outputs": [],
   "source": []
  }
 ],
 "metadata": {
  "kernelspec": {
   "display_name": "Python 3 (ipykernel)",
   "language": "python",
   "name": "python3"
  },
  "language_info": {
   "codemirror_mode": {
    "name": "ipython",
    "version": 3
   },
   "file_extension": ".py",
   "mimetype": "text/x-python",
   "name": "python",
   "nbconvert_exporter": "python",
   "pygments_lexer": "ipython3",
   "version": "3.13.2"
  }
 },
 "nbformat": 4,
 "nbformat_minor": 5
}
