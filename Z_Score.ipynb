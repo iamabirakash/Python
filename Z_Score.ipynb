{
 "cells": [
  {
   "cell_type": "code",
   "execution_count": 1,
   "id": "87ecc291-6bd0-4fee-af67-819b7eb3ae40",
   "metadata": {},
   "outputs": [],
   "source": [
    "import pandas as pd\n",
    "import numpy as np\n",
    "import seaborn as sns"
   ]
  },
  {
   "cell_type": "code",
   "execution_count": 2,
   "id": "88a9a874-4893-471d-8d4e-04f8b98247c1",
   "metadata": {},
   "outputs": [
    {
     "name": "stdout",
     "output_type": "stream",
     "text": [
      "Mean:-  30.636363636363637\n",
      "Standard Deviation:-  32.6448456944312\n",
      "Z Score Value:-  [-0.63214769 -0.57088227 -0.57088227 -0.54024956 -0.47898415 -0.44835144\n",
      " -0.38708603  2.12479596 -0.32582061 -0.2645552   2.09416326]\n"
     ]
    }
   ],
   "source": [
    "data = np.array([10,12,12,13,15,16,18,100,20,22,99])\n",
    "mean = np.mean(data)\n",
    "print(\"Mean:- \",mean)\n",
    "sd = np.std(data)\n",
    "print(\"Standard Deviation:- \",sd)\n",
    "z_score = (data-mean)/sd\n",
    "print(\"Z Score Value:- \",z_score)"
   ]
  },
  {
   "cell_type": "code",
   "execution_count": 3,
   "id": "84673924-c6c0-4994-944e-8b5010793a29",
   "metadata": {},
   "outputs": [
    {
     "data": {
      "text/plain": [
       "<Axes: >"
      ]
     },
     "execution_count": 3,
     "metadata": {},
     "output_type": "execute_result"
    },
    {
     "data": {
      "image/png": "[encoded data removed]",
      "text/plain": [
       "<Figure size 640x480 with 1 Axes>"
      ]
     },
     "metadata": {},
     "output_type": "display_data"
    }
   ],
   "source": [
    "sns.boxplot(data)"
   ]
  },
  {
   "cell_type": "code",
   "execution_count": 28,
   "id": "9bf0584a-d5d7-4c19-8b99-18e3f9ab9f1b",
   "metadata": {},
   "outputs": [
    {
     "name": "stdout",
     "output_type": "stream",
     "text": [
      "Outliers:- 100  99  "
     ]
    }
   ],
   "source": [
    "import matplotlib.pyplot as plt\n",
    "\n",
    "q1 = np.percentile(data, 25)  # First quartile (Q1)\n",
    "q3 = np.percentile(data, 75)  # Third quartile (Q3)\n",
    "iqr = q3 - q1  # Interquartile range\n",
    "\n",
    "lb = q1 - 1.5 * iqr  # Lower bound\n",
    "ub = q3 + 1.5 * iqr  # Upper bound\n",
    "\n",
    "outliers = [x for x in data if x < lb or x > ub]\n",
    "print(\"Outliers:- \",end='')\n",
    "n = len(outliers)\n",
    "for x in outliers:\n",
    "    print(x,\" \",end='')"
   ]
  },
  {
   "cell_type": "code",
   "execution_count": null,
   "id": "c430481e-6899-49a8-9b0d-3edf48b92100",
   "metadata": {},
   "outputs": [],
   "source": []
  }
 ],
 "metadata": {
  "kernelspec": {
   "display_name": "Python 3 (ipykernel)",
   "language": "python",
   "name": "python3"
  },
  "language_info": {
   "codemirror_mode": {
    "name": "ipython",
    "version": 3
   },
   "file_extension": ".py",
   "mimetype": "text/x-python",
   "name": "python",
   "nbconvert_exporter": "python",
   "pygments_lexer": "ipython3",
   "version": "3.13.2"
  }
 },
 "nbformat": 4,
 "nbformat_minor": 5
}
