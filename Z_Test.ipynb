{
 "cells": [
  {
   "cell_type": "code",
   "execution_count": 1,
   "id": "e5cbbeee-3a4d-4b85-9556-7d9b488338fe",
   "metadata": {},
   "outputs": [],
   "source": [
    "from statsmodels.stats.weightstats import ztest"
   ]
  },
  {
   "cell_type": "code",
   "execution_count": 6,
   "id": "79db6b29-3928-4efc-b087-78fd8bbf9de2",
   "metadata": {},
   "outputs": [
    {
     "name": "stdout",
     "output_type": "stream",
     "text": [
      "Z-Statistic = 0.0, p-value = 1.0\n",
      "Unable to rej null hypo\n"
     ]
    }
   ],
   "source": [
    "data = [60, 65, 70, 75, 80]\n",
    "z_stat, p_val = ztest(data, value=70)\n",
    "print(f\"Z-Statistic = {z_stat}, p-value = {p_val}\")\n",
    "alpha=0.05\n",
    "if p_val<alpha:\n",
    "    print(\"Rej null Hypo\")\n",
    "else:\n",
    "    print(\"Unable to rej null hypo\")"
   ]
  },
  {
   "cell_type": "code",
   "execution_count": 3,
   "id": "7a5f0673-ea61-429e-b3c8-5220cc0423e6",
   "metadata": {},
   "outputs": [
    {
     "name": "stdout",
     "output_type": "stream",
     "text": [
      "[11.8, 11.8, 11.8, 11.8, 11.8, 11.8, 11.8, 11.8, 11.8, 11.8, 11.8, 11.8, 11.8, 11.8, 11.8, 11.8, 11.8, 11.8, 11.8, 11.8, 11.8, 11.8, 11.8, 11.8, 11.8, 11.8, 11.8, 11.8, 11.8, 11.8, 11.8, 11.8, 11.8, 11.8, 11.8, 11.8, 11.8, 11.8, 11.8, 11.8, 11.8, 11.8, 11.8, 11.8, 11.8, 11.8, 11.8, 11.8, 11.8, 11.8, 11.8, 11.8, 11.8, 11.8, 11.8, 11.8, 11.8, 11.8, 11.8, 11.8, 11.8, 11.8, 11.8, 11.8, 11.8, 11.8, 11.8, 11.8, 11.8, 11.8, 11.8, 11.8, 11.8, 11.8, 11.8, 11.8, 11.8, 11.8, 11.8, 11.8, 11.8, 11.8, 11.8, 11.8, 11.8, 11.8, 11.8, 11.8, 11.8, 11.8, 11.8, 11.8, 11.8, 11.8, 11.8, 11.8, 11.8, 11.8, 11.8, 11.8]\n"
     ]
    }
   ],
   "source": [
    "\n",
    "import numpy as np\n",
    "from statsmodels.stats.weightstats import ztest\n",
    "data = [11.8]*100\n",
    "pop_mean = 12\n",
    "print(data)"
   ]
  }
 ],
 "metadata": {
  "kernelspec": {
   "display_name": "Python 3 (ipykernel)",
   "language": "python",
   "name": "python3"
  },
  "language_info": {
   "codemirror_mode": {
    "name": "ipython",
    "version": 3
   },
   "file_extension": ".py",
   "mimetype": "text/x-python",
   "name": "python",
   "nbconvert_exporter": "python",
   "pygments_lexer": "ipython3",
   "version": "3.13.2"
  }
 },
 "nbformat": 4,
 "nbformat_minor": 5
}
